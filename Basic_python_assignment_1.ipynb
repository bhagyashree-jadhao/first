{
  "cells": [
    {
      "cell_type": "markdown",
      "metadata": {
        "id": "view-in-github",
        "colab_type": "text"
      },
      "source": [
        "<a href=\"https://colab.research.google.com/github/bhagyashree-jadhao/first/blob/main/Basic_python_assignment_1.ipynb\" target=\"_parent\"><img src=\"https://colab.research.google.com/assets/colab-badge.svg\" alt=\"Open In Colab\"/></a>"
      ]
    },
    {
      "cell_type": "markdown",
      "id": "10ea9260-1be8-4693-90e4-22c0d8684e2d",
      "metadata": {
        "id": "10ea9260-1be8-4693-90e4-22c0d8684e2d"
      },
      "source": [
        "## Basic python assignments 1\n"
      ]
    },
    {
      "cell_type": "markdown",
      "id": "f6b3cb77-caf9-4482-96fa-7fe576d855fa",
      "metadata": {
        "id": "f6b3cb77-caf9-4482-96fa-7fe576d855fa"
      },
      "source": [
        "## 1)explain the key featutes of Python that take it a popular choice for programming\n",
        "Ans :-    \n",
        "•\tPython is high level programming\n",
        "•\tEasy to used and learn\n",
        "•\tIt dynamically type languages mean at the variable declaration there is no need to define data type to the variable PVM automatically understood the data type based on value\n",
        "•\tThere is huge amount of library available in python.\n",
        "•\tOnce we write the python code on any machine it will be executed on any machine once write code and execute anywhere\n",
        "•\tAnd also used in scripting as well as analytics   \n",
        "•\tIt is an interpreter programming languages.\n",
        "•\tPython used in web development ,\n",
        "•\t analytics data science, ML and AI .\n",
        "\n"
      ]
    },
    {
      "cell_type": "markdown",
      "id": "c582a1ac-5f04-426e-bdf1-9823ce3fbf8e",
      "metadata": {
        "id": "c582a1ac-5f04-426e-bdf1-9823ce3fbf8e"
      },
      "source": [
        "## 2) Describe the role of predefined keywords in Python and provide examples of how they are used in a program\n",
        "\n",
        "Ans:- keywords mean the reserved word it has some meaning and every keyword having there own meaning and purpose we cannot used keyword as variable name .   there is 35 keyword in python\n",
        "If we want to see keyword list then use this code\n"
      ]
    },
    {
      "cell_type": "code",
      "execution_count": null,
      "id": "95f9d47d-c8de-40d6-bcad-9cb8d93f2f1c",
      "metadata": {
        "id": "95f9d47d-c8de-40d6-bcad-9cb8d93f2f1c",
        "outputId": "40cebd01-c92e-4dac-88c6-921d14354ad5"
      },
      "outputs": [
        {
          "name": "stdout",
          "output_type": "stream",
          "text": [
            "['False', 'None', 'True', 'and', 'as', 'assert', 'async', 'await', 'break', 'class', 'continue', 'def', 'del', 'elif', 'else', 'except', 'finally', 'for', 'from', 'global', 'if', 'import', 'in', 'is', 'lambda', 'nonlocal', 'not', 'or', 'pass', 'raise', 'return', 'try', 'while', 'with', 'yield']\n"
          ]
        }
      ],
      "source": [
        "import keyword\n",
        "#print(len(keyword.kwlist))\n",
        "print(keyword.kwlist)"
      ]
    },
    {
      "cell_type": "code",
      "execution_count": null,
      "id": "ea7704d1-de7b-43c1-aabc-f69860dc388f",
      "metadata": {
        "id": "ea7704d1-de7b-43c1-aabc-f69860dc388f",
        "outputId": "7c943219-18f6-4109-c137-9f8ce3e94d29"
      },
      "outputs": [
        {
          "name": "stdout",
          "output_type": "stream",
          "text": [
            "500 is greater\n"
          ]
        }
      ],
      "source": [
        "a,b,c=80,500,60\n",
        "if a>b and a>c:\n",
        "    print(f\"{a} is greter\")\n",
        "elif b>a and b>c:\n",
        "    print(f\"{b} is greater\")\n",
        "else:\n",
        "    print(f\"{c} is greater\")"
      ]
    },
    {
      "cell_type": "markdown",
      "id": "4d2bd941-81b8-457d-9727-377df88f8af6",
      "metadata": {
        "id": "4d2bd941-81b8-457d-9727-377df88f8af6"
      },
      "source": [
        "If is a conditional statement used for condition checking else and elif also part of conditional statements .\n",
        "def is keyword used to define function see the example below"
      ]
    },
    {
      "cell_type": "code",
      "execution_count": null,
      "id": "3ad06b6b-443e-4eb8-9354-91cb625fd4d3",
      "metadata": {
        "id": "3ad06b6b-443e-4eb8-9354-91cb625fd4d3"
      },
      "outputs": [],
      "source": [
        "def square(a):\n",
        "    return a*a"
      ]
    },
    {
      "cell_type": "code",
      "execution_count": null,
      "id": "53952ada-1d01-4b2b-82be-57c6b338244d",
      "metadata": {
        "id": "53952ada-1d01-4b2b-82be-57c6b338244d",
        "outputId": "2862465b-e5db-42a9-a30f-3db4bf7a7da0"
      },
      "outputs": [
        {
          "data": {
            "text/plain": [
              "36"
            ]
          },
          "execution_count": 118,
          "metadata": {},
          "output_type": "execute_result"
        }
      ],
      "source": [
        "square(6)"
      ]
    },
    {
      "cell_type": "code",
      "execution_count": null,
      "id": "04d65499-3a25-4625-8c98-fea69ad24469",
      "metadata": {
        "id": "04d65499-3a25-4625-8c98-fea69ad24469",
        "outputId": "22081de4-401c-4f49-ebe4-5eb6695fe5d1"
      },
      "outputs": [
        {
          "name": "stdout",
          "output_type": "stream",
          "text": [
            "1\n",
            "2\n",
            "3\n",
            "4\n",
            "5\n",
            "6\n",
            "7\n",
            "8\n",
            "9\n"
          ]
        }
      ],
      "source": [
        "#for and while is keyword used for looping statments\n",
        "for i in range(1,10):\n",
        "    print(i)"
      ]
    },
    {
      "cell_type": "code",
      "execution_count": null,
      "id": "9e8113f8-1d5a-4cbf-8c05-4e58065305d7",
      "metadata": {
        "id": "9e8113f8-1d5a-4cbf-8c05-4e58065305d7",
        "outputId": "3dc803ae-7ae4-45f4-a1d7-321d10699ad4"
      },
      "outputs": [
        {
          "name": "stdout",
          "output_type": "stream",
          "text": [
            "1\n",
            "2\n",
            "3\n",
            "4\n",
            "5\n",
            "6\n",
            "7\n",
            "8\n",
            "9\n"
          ]
        }
      ],
      "source": [
        "a=1\n",
        "while a<10:\n",
        "    print(a)\n",
        "    a+=1"
      ]
    },
    {
      "cell_type": "code",
      "execution_count": null,
      "id": "1b9563a9-d79c-4266-bb80-eb1fa445b9b5",
      "metadata": {
        "id": "1b9563a9-d79c-4266-bb80-eb1fa445b9b5",
        "outputId": "151c3813-8d14-4f42-8c1c-60565e460f2a"
      },
      "outputs": [
        {
          "data": {
            "text/plain": [
              "False"
            ]
          },
          "execution_count": 121,
          "metadata": {},
          "output_type": "execute_result"
        }
      ],
      "source": [
        "#in also keyword used to check the value is available in sequance or not\n",
        "a=\"Welcome\"\n",
        "'i' in a"
      ]
    },
    {
      "cell_type": "code",
      "execution_count": null,
      "id": "f59afdb5-0ed6-4d46-b32b-8ca2ef01c1b9",
      "metadata": {
        "id": "f59afdb5-0ed6-4d46-b32b-8ca2ef01c1b9",
        "outputId": "f59c9100-8b40-44d8-f1f7-628c4ad46397"
      },
      "outputs": [
        {
          "data": {
            "text/plain": [
              "True"
            ]
          },
          "execution_count": 122,
          "metadata": {},
          "output_type": "execute_result"
        }
      ],
      "source": [
        "'o'in a"
      ]
    },
    {
      "cell_type": "code",
      "execution_count": null,
      "id": "05ca3419-dba3-4c66-baea-68b86c7f4c52",
      "metadata": {
        "id": "05ca3419-dba3-4c66-baea-68b86c7f4c52"
      },
      "outputs": [],
      "source": [
        "#del also a keyword used to delete the object\n",
        "del a"
      ]
    },
    {
      "cell_type": "code",
      "execution_count": null,
      "id": "4146bd5d-97bf-439c-bb17-296cd9507ca2",
      "metadata": {
        "id": "4146bd5d-97bf-439c-bb17-296cd9507ca2"
      },
      "outputs": [],
      "source": []
    },
    {
      "cell_type": "code",
      "execution_count": null,
      "id": "acf777d4-8ee0-4656-8ba5-5220cdd87266",
      "metadata": {
        "id": "acf777d4-8ee0-4656-8ba5-5220cdd87266"
      },
      "outputs": [],
      "source": [
        "# a is deleted permanatly"
      ]
    },
    {
      "cell_type": "code",
      "execution_count": null,
      "id": "6aab6111-5e22-43ef-9702-25fb54d5ef2e",
      "metadata": {
        "id": "6aab6111-5e22-43ef-9702-25fb54d5ef2e",
        "outputId": "ed62ec50-6e90-401e-d415-88ff2866b92c"
      },
      "outputs": [
        {
          "data": {
            "text/plain": [
              "True"
            ]
          },
          "execution_count": 125,
          "metadata": {},
          "output_type": "execute_result"
        }
      ],
      "source": [
        "bool(6)"
      ]
    },
    {
      "cell_type": "markdown",
      "id": "49bc6522-fa27-4e32-8a9b-9c655c9afbd9",
      "metadata": {
        "id": "49bc6522-fa27-4e32-8a9b-9c655c9afbd9"
      },
      "source": [
        "## 3) c compare and contrast mutable and immutable object in python with examples.\n",
        "ans:- In python , object can be mutable or immutable\n",
        "1) mutable:-- changeable/ modifiable and immutable means uchangeable\n",
        "2) mutable one we difine the object we can perform modification operation means we can add and remove the element the that object\n",
        "and immutable once we difine we can not add or remove or change  the object'\n",
        "3) mutable object such as list , set and dictionaries can be midify after the creation,while immutable object like int, string and tuple we can not modify after creation.\n",
        "4) see the example below"
      ]
    },
    {
      "cell_type": "code",
      "execution_count": null,
      "id": "bbb69f36-9838-4366-b6cb-01c554c28c1f",
      "metadata": {
        "id": "bbb69f36-9838-4366-b6cb-01c554c28c1f",
        "outputId": "c2a27d64-7658-4b31-c61d-fc6e49838942"
      },
      "outputs": [
        {
          "name": "stdout",
          "output_type": "stream",
          "text": [
            "2862100037296\n",
            "140735898307080\n"
          ]
        }
      ],
      "source": [
        "s=\"welcome\" # s is string object we created and s conatain the welcome string\n",
        "print(id(s)) # check the memory address\n",
        "# if we try to change the value of s ten new object will be created becouse of python us dynamically type language and memory is allocated based  the value of variable\n",
        "s=56\n",
        "print(id(s))\n",
        "# see address is differnt it will create new object string is immutable\n"
      ]
    },
    {
      "cell_type": "code",
      "execution_count": null,
      "id": "a82517b0-8515-4b8c-80e4-54e395c87ac2",
      "metadata": {
        "id": "a82517b0-8515-4b8c-80e4-54e395c87ac2",
        "outputId": "24bc1292-4217-474b-a140-63137c759e1a"
      },
      "outputs": [
        {
          "name": "stdout",
          "output_type": "stream",
          "text": [
            "(1, 2, 3, 4, 5)\n",
            "2862128962816\n",
            "2862128965616\n"
          ]
        }
      ],
      "source": [
        "# tuple alos a immutable object we cant change the contain in tuple\n",
        "t=(1,2,3,4,5)\n",
        "print(t)\n",
        "print(id(t))\n",
        "t=(1,2,3,4,5)\n",
        "print(id(t))"
      ]
    },
    {
      "cell_type": "markdown",
      "id": "00ac006c-17ae-4987-80d2-902d5bb07ca9",
      "metadata": {
        "id": "00ac006c-17ae-4987-80d2-902d5bb07ca9"
      },
      "source": [
        "list, set and dictionary are mutable we can perform the opration like insert and delete and change lets see\n",
        "in list we can add remove and change the element using append() insert() method we can add the element and pop() and remove we can deeted the element\n",
        "and = assignment opearors we can change the element lets see example"
      ]
    },
    {
      "cell_type": "code",
      "execution_count": null,
      "id": "7847366f-917c-4b75-9921-0cf18d518863",
      "metadata": {
        "id": "7847366f-917c-4b75-9921-0cf18d518863",
        "outputId": "9f81495e-c6b5-4e47-a98a-820756661889"
      },
      "outputs": [
        {
          "name": "stdout",
          "output_type": "stream",
          "text": [
            "[1, 2, 3, 4, 5]\n",
            "2862129108736\n",
            "[1, 2, 3, 4, 5, 'Welocme']\n",
            "2862129108736\n",
            "[1, 2, 3, 'Python', 4, 5, 'Welocme']\n",
            "2862129108736\n",
            "[1, 2, 'Python', 4, 5]\n",
            "[1, 2, 'Python', 'PWSkills']\n"
          ]
        }
      ],
      "source": [
        "\n",
        "l=[1,2,3,4,5]\n",
        "print(l)\n",
        "print(id(l))\n",
        "l.append(\"Welocme\") # append() method insert the element to the last of list and addresses is same after modification\n",
        "print(l)\n",
        "print(id(l))\n",
        "l.insert(3,\"Python\") # insert() used to add the element at the perticuler index position\n",
        "print(l)\n",
        "print(id(l))\n",
        "l.pop()# pop() used to remove the last element in list and return the deleted element\n",
        "l.pop(2)#also we can pass the index postion in pop(index) the perticuler index position lement will be removed\n",
        "print(l)\n",
        "l.remove(4)# remove the perticuler element/value in the list if value is not present then its gives yhe value error\n",
        "l[3]=\"PWSkills\" # change the 3rd index element  by  \"PWSkills\"\n",
        "print(l)"
      ]
    },
    {
      "cell_type": "code",
      "execution_count": null,
      "id": "3f747171-1887-4a88-b990-6fd855c0d023",
      "metadata": {
        "id": "3f747171-1887-4a88-b990-6fd855c0d023",
        "outputId": "24ca50af-6d22-47e7-b89e-814441a874ec"
      },
      "outputs": [
        {
          "name": "stdout",
          "output_type": "stream",
          "text": [
            "{1, 2, 3, 4, 5}\n",
            "2862128707872\n",
            "{1, 2, 3, 4, 5, 'hello'}\n",
            "2862128707872\n",
            "{2, 3, 4, 'hello'}\n"
          ]
        }
      ],
      "source": [
        "# set also mutable object we can used add() and pop() for modification\n",
        "s={1,2,3,4,5}\n",
        "print(s)\n",
        "print(id(s))\n",
        "s.add('hello')\n",
        "print(s)\n",
        "print(id(s))\n",
        "s.pop()# in set pop() does not take any arguments by defualt it will delete any number\n",
        "s.remove(5)# remove the perticuler element in set\n",
        "print(s)"
      ]
    },
    {
      "cell_type": "markdown",
      "id": "a8101f52-2467-4985-8436-eac4a41873ca",
      "metadata": {
        "id": "a8101f52-2467-4985-8436-eac4a41873ca"
      },
      "source": [
        " dict():-- it is mutable data type we can used key value paire by using key we can change the value and we can usee d pop() and popitems() for deletion\n",
        "and update() used to add the one dictinary to another one\n",
        "after creation we can update the dictionary and the address of updated one and old dictionary is always same"
      ]
    },
    {
      "cell_type": "code",
      "execution_count": null,
      "id": "f82dfc2f-c8e1-47e4-b806-3e0429943019",
      "metadata": {
        "id": "f82dfc2f-c8e1-47e4-b806-3e0429943019",
        "outputId": "8aa0d121-8985-406b-f941-b0ea2df71f02"
      },
      "outputs": [
        {
          "name": "stdout",
          "output_type": "stream",
          "text": [
            "{'rollno': 101, 'name': 'Ram', 'mob': 2345674521, 'address': 'Jalgaon'}\n",
            "2862125209216\n",
            "{'age': 23, 'marks': 67, 'email': 'ram123@gmail.com'}\n",
            "2862134193472\n",
            "{'rollno': 101, 'name': 'Ram', 'mob': 2345674521, 'address': 'Jalgaon', 'age': 23, 'marks': 67, 'email': 'ram123@gmail.com'}\n",
            "2862125209216\n",
            "{'rollno': 101, 'name': 'Ram', 'mob': 2345674521, 'address': 'Jalgaon', 'marks': 67, 'email': 'ram123@gmail.com'}\n",
            "{'rollno': 101, 'name': 'Ram', 'mob': 2345674521, 'address': 'Jalgaon', 'marks': 67, 'salary': 450000}\n",
            "{'rollno': 101, 'name': 'Ram', 'mob': 2345674521, 'address': 'Pune', 'marks': 67, 'salary': 450000}\n",
            "2862125209216\n"
          ]
        }
      ],
      "source": [
        "d={'rollno':101,'name':\"Ram\",'mob':2345674521,'address':\"Jalgaon\"}\n",
        "print(d)\n",
        "print(id(d))\n",
        "d1={'age':23,\"marks\":67,'email':\"ram123@gmail.com\"}\n",
        "print(d1)\n",
        "print(id(d1))\n",
        "d.update(d1)# add the new dictinary\n",
        "print(d)\n",
        "print(id(d))\n",
        "d.pop('age')# remove the last age key:value pair and return the value\n",
        "print(d)\n",
        "d.popitem()# deleted the last one key value pair and return the key value in tuple format\n",
        "d['salary']=450000# add the new key value pair to the d dictionary\n",
        "print(d)\n",
        "d['address']='Pune'# here we can change the address value by Pune\n",
        "print(d)\n",
        "print(id(d))\n",
        "# after updation the address is remain same hence called the mutability"
      ]
    },
    {
      "cell_type": "markdown",
      "id": "f498ae09-ecfc-4e8d-ba56-9273cf602e46",
      "metadata": {
        "id": "f498ae09-ecfc-4e8d-ba56-9273cf602e46"
      },
      "source": [
        " ##  4 Discuss the different types of operators in Python and provide examples of how they are used\n",
        " ans:- #ans 1) arithmatic operators\n",
        "+,-,*,%,/,// this are the arithmatic oprators used to perform some arithmatic calculation"
      ]
    },
    {
      "cell_type": "markdown",
      "id": "e4d3e6b6-5a04-464c-a52c-7b75dd5f0d4a",
      "metadata": {
        "id": "e4d3e6b6-5a04-464c-a52c-7b75dd5f0d4a"
      },
      "source": []
    },
    {
      "cell_type": "code",
      "execution_count": null,
      "id": "486fe49e-d6b9-40e7-9a96-e3b71525bb99",
      "metadata": {
        "id": "486fe49e-d6b9-40e7-9a96-e3b71525bb99",
        "outputId": "3f54ce42-b7a8-4291-8fbd-4f17e958391b"
      },
      "outputs": [
        {
          "name": "stdout",
          "output_type": "stream",
          "text": [
            "30\n",
            "10\n",
            "30\n",
            "welcomePython\n",
            "10\n",
            "2.0\n",
            "2\n",
            "200\n",
            "welcomewelcomewelcomewelcomewelcomewelcomewelcomewelcomewelcomewelcome\n",
            "64\n"
          ]
        }
      ],
      "source": [
        "a,b=20,10\n",
        "print(a+b)\n",
        "print(a-b)\n",
        "\n",
        "str1=\"welcome\"\n",
        "str2=\"Python\"\n",
        "print(a+b)\n",
        "#+ operator used for addition of two number and also used for join two string used only 2 string and\n",
        "#+ int otherwise gives error\n",
        "print(str1+str2)\n",
        "print(a-b)\n",
        "# - operators used from subtraction of two number the umber can be int or  float\n",
        "print(a/b)\n",
        "# / division operators used for division of number return the floating point value\n",
        "print(a//b)\n",
        "# // this is floor division operators it return the return only interger result\n",
        "print(a*b)\n",
        "# * operators is multiplication opeartors used from multiply two number also used for repeation perpuse\n",
        "#if we pass 1 string and 1 int then the string is reapeted by number\n",
        "print(str1*b)\n",
        "# ** is called exponension operator mean power of number it work as like 4 to the power 3\n",
        "print(4**3)"
      ]
    },
    {
      "cell_type": "markdown",
      "id": "7cfd6c14-9e0e-4144-8e13-2cd887993cfe",
      "metadata": {
        "id": "7cfd6c14-9e0e-4144-8e13-2cd887993cfe"
      },
      "source": [
        "2) logical operators"
      ]
    },
    {
      "cell_type": "markdown",
      "id": "757e0e68-1baa-4cfd-94bd-51ad9a1cefa8",
      "metadata": {
        "id": "757e0e68-1baa-4cfd-94bd-51ad9a1cefa8"
      },
      "source": [
        "Logical operators are used on conditional statements (either True or False). They perform Logical AND, Logical OR, and Logical NOT\n",
        "operations.\n",
        "logical and result is true if only  two operand is true otherwise afalse.\n",
        "logical or is true if any operand is true then true otherwise false."
      ]
    },
    {
      "cell_type": "code",
      "execution_count": null,
      "id": "94d0184f-34d3-41b1-920f-94fa4716fc64",
      "metadata": {
        "id": "94d0184f-34d3-41b1-920f-94fa4716fc64",
        "outputId": "800e2bd7-58fb-4990-bf9d-0f101ffb19ae"
      },
      "outputs": [
        {
          "name": "stdout",
          "output_type": "stream",
          "text": [
            "True\n",
            "True\n",
            "False\n",
            "False\n"
          ]
        }
      ],
      "source": [
        "a=30\n",
        "#b=70\n",
        "print(a>10 and a<50)# True\n",
        "print(a>10 or a<50)# True\n",
        "print(a<10 or a>100)#False\n",
        "print(a<50 and a>40)#False\n"
      ]
    },
    {
      "cell_type": "markdown",
      "id": "5757a49f-c2bd-4fde-babd-b6314339e178",
      "metadata": {
        "id": "5757a49f-c2bd-4fde-babd-b6314339e178"
      },
      "source": [
        " 3) relational operators :- >,<,>=,<=,==,!=this operators  also known as comparision operators\n",
        " comapre the two oprands\n",
        "'>' greater than operators if right hand side operator is greater then return True otherwise return false .\n",
        "'>=' greater than equal to operators if right hand side operator is greater or equal  then return  True otherwise return false .\n",
        "'<' less than operators if right hand side operator is less than left side opeators then return True otherwise return false .\n",
        "'<=' less than operators if right hand side operator is less than pr equal to left side opeators then return True otherwise return false .\n",
        "'==' equal to operators if right hand side operator is same as  left side opeators then return True otherwise return false .\n",
        "'!=' not equal to operators if right hand side operator is not same as  left side opeators then return True otherwise return false .\n"
      ]
    },
    {
      "cell_type": "code",
      "execution_count": null,
      "id": "cd340bf6-825d-44d6-a646-73ce617f4df3",
      "metadata": {
        "id": "cd340bf6-825d-44d6-a646-73ce617f4df3",
        "outputId": "2d73ca42-e881-49e0-d168-2006dc09f2cb"
      },
      "outputs": [
        {
          "name": "stdout",
          "output_type": "stream",
          "text": [
            "False\n",
            "True\n",
            "False\n",
            "True\n",
            "False\n",
            "True\n"
          ]
        }
      ],
      "source": [
        "a=50\n",
        "b=60\n",
        "print(a>b)\n",
        "print(a<b)\n",
        "print(a>=b)\n",
        "print(a<=b)\n",
        "print(a==b)\n",
        "print(20!=30)"
      ]
    },
    {
      "cell_type": "code",
      "execution_count": null,
      "id": "560d2ec3-abea-4668-b155-a6f7dd6bc8e5",
      "metadata": {
        "id": "560d2ec3-abea-4668-b155-a6f7dd6bc8e5",
        "outputId": "e55d2945-231e-4b89-e0a5-0697abf3c4d4"
      },
      "outputs": [
        {
          "name": "stdout",
          "output_type": "stream",
          "text": [
            " a is greater than b\n"
          ]
        }
      ],
      "source": [
        "#example\n",
        "a=200\n",
        "b=40\n",
        "\n",
        "if a>b:\n",
        "    print(\" a is greater than b\")\n",
        "elif a==b:\n",
        "    print(\"a eqaual to b\")\n",
        "else:\n",
        "    print(\" a is less than b\")\n",
        "\n"
      ]
    },
    {
      "cell_type": "markdown",
      "id": "f57a8ad4-f367-47e7-abab-e12e80ab7a80",
      "metadata": {
        "id": "f57a8ad4-f367-47e7-abab-e12e80ab7a80"
      },
      "source": [
        " 4. Bitwise operators:-- &,|,^,~,<<,>>\n",
        "\n",
        "'&' bitwise AND operators:-- if both bits are 1 then result is 1 otherwise 0.\n",
        "'^ '  :-- if bits are diffrent then only result is 1 otherwise False.\n",
        "'~' compliment operators :- means 1 means 0and 0 means 1.\n",
        "'|' bitwise OR:-- if atleast one bit is 1 then result is 1 otherwise 0.\n",
        "'>>'left shift. shift the bit left side\n",
        " '<<' right shift. shift bit ti right side"
      ]
    },
    {
      "cell_type": "code",
      "execution_count": null,
      "id": "838c922a-25ab-4a5b-a91b-e555f6f36f51",
      "metadata": {
        "id": "838c922a-25ab-4a5b-a91b-e555f6f36f51",
        "outputId": "2666f9f2-0896-47d9-be4c-1d763d61a76a"
      },
      "outputs": [
        {
          "name": "stdout",
          "output_type": "stream",
          "text": [
            "4\n"
          ]
        }
      ],
      "source": [
        "print(4&6)"
      ]
    },
    {
      "cell_type": "markdown",
      "id": "6b4c65a9-5283-441b-ac5b-407e3b98c71e",
      "metadata": {
        "id": "6b4c65a9-5283-441b-ac5b-407e3b98c71e"
      },
      "source": [
        "#here result is 4 how is it lets see binary of 4 is 100 and bin(6) is 110\n",
        "use the & oprators its say that if both opeatand are 1 then result is 1 otherwise 0"
      ]
    },
    {
      "cell_type": "code",
      "execution_count": null,
      "id": "798a08be-5541-437c-a1c9-bd9f6f9d7065",
      "metadata": {
        "id": "798a08be-5541-437c-a1c9-bd9f6f9d7065",
        "outputId": "eac23cd6-adbe-4a68-9c97-24d3b1211ccd"
      },
      "outputs": [
        {
          "data": {
            "text/plain": [
              "'0b100'"
            ]
          },
          "execution_count": 136,
          "metadata": {},
          "output_type": "execute_result"
        }
      ],
      "source": [
        "bin(4)"
      ]
    },
    {
      "cell_type": "code",
      "execution_count": null,
      "id": "4e101b5f-cf0e-4973-abff-23b84add5a58",
      "metadata": {
        "id": "4e101b5f-cf0e-4973-abff-23b84add5a58",
        "outputId": "82e7aa46-bba2-4ab9-d04b-d445d8da3898"
      },
      "outputs": [
        {
          "data": {
            "text/plain": [
              "'0b110'"
            ]
          },
          "execution_count": 137,
          "metadata": {},
          "output_type": "execute_result"
        }
      ],
      "source": [
        "bin(6)"
      ]
    },
    {
      "cell_type": "markdown",
      "id": "063b6bc7-1614-4926-abb1-2b34ad7c2d2f",
      "metadata": {
        "id": "063b6bc7-1614-4926-abb1-2b34ad7c2d2f"
      },
      "source": [
        "100\n",
        "&\n",
        "110=\n",
        "100"
      ]
    },
    {
      "cell_type": "code",
      "execution_count": null,
      "id": "1e87148c-6d3c-467c-91cc-57b6260bd534",
      "metadata": {
        "id": "1e87148c-6d3c-467c-91cc-57b6260bd534",
        "outputId": "8416734c-41a2-45fd-bec1-071793d501a8"
      },
      "outputs": [
        {
          "name": "stdout",
          "output_type": "stream",
          "text": [
            "4\n"
          ]
        }
      ],
      "source": [
        "print(5&6)"
      ]
    },
    {
      "cell_type": "code",
      "execution_count": null,
      "id": "09d69a8f-da8c-4745-bdf6-075e9d7a43ae",
      "metadata": {
        "id": "09d69a8f-da8c-4745-bdf6-075e9d7a43ae",
        "outputId": "e6bbde5d-0aae-47cf-b676-8159ad3e5bd0"
      },
      "outputs": [
        {
          "data": {
            "text/plain": [
              "'0b101'"
            ]
          },
          "execution_count": 140,
          "metadata": {},
          "output_type": "execute_result"
        }
      ],
      "source": [
        "bin(5)"
      ]
    },
    {
      "cell_type": "markdown",
      "id": "aeaa2e94-689c-482f-a79e-3cce615ea3fd",
      "metadata": {
        "id": "aeaa2e94-689c-482f-a79e-3cce615ea3fd"
      },
      "source": [
        "101\n",
        "&\n",
        "110\n",
        "-------\n",
        "100"
      ]
    },
    {
      "cell_type": "code",
      "execution_count": null,
      "id": "9d891c14-f251-4846-a93d-0724e4ccc5a0",
      "metadata": {
        "id": "9d891c14-f251-4846-a93d-0724e4ccc5a0",
        "outputId": "89135173-677d-4043-fa3f-1018412b67eb"
      },
      "outputs": [
        {
          "data": {
            "text/plain": [
              "5"
            ]
          },
          "execution_count": 141,
          "metadata": {},
          "output_type": "execute_result"
        }
      ],
      "source": [
        "4|5"
      ]
    },
    {
      "cell_type": "markdown",
      "id": "d2970f7e-1fc4-4f30-94f4-5861054c9f31",
      "metadata": {
        "id": "d2970f7e-1fc4-4f30-94f4-5861054c9f31"
      },
      "source": [
        "same here convert binary of 4 and 5 and use the or | oprators atleast bit value is 1 then 1 otherwise false"
      ]
    },
    {
      "cell_type": "code",
      "execution_count": null,
      "id": "e3c532f3-de3d-4253-880f-a5ac776ec1b6",
      "metadata": {
        "id": "e3c532f3-de3d-4253-880f-a5ac776ec1b6",
        "outputId": "4d8dbf4d-6be9-4ce4-e3bc-679cf1b436a7"
      },
      "outputs": [
        {
          "name": "stdout",
          "output_type": "stream",
          "text": [
            "127\n"
          ]
        }
      ],
      "source": [
        "print(59|79)"
      ]
    },
    {
      "cell_type": "code",
      "execution_count": null,
      "id": "7d3cb13f-cb6a-4e9f-a261-5e9efe17c8d7",
      "metadata": {
        "id": "7d3cb13f-cb6a-4e9f-a261-5e9efe17c8d7",
        "outputId": "ed216b9a-6126-4a5c-c616-7209562913d0"
      },
      "outputs": [
        {
          "name": "stdout",
          "output_type": "stream",
          "text": [
            "11\n"
          ]
        }
      ],
      "source": [
        "print(59&79)"
      ]
    },
    {
      "cell_type": "code",
      "execution_count": null,
      "id": "8d260b96-5d3b-4fb7-ac45-11b3de1f3ea7",
      "metadata": {
        "id": "8d260b96-5d3b-4fb7-ac45-11b3de1f3ea7",
        "outputId": "f8958888-618f-4e5a-b69a-bf9627e07d44"
      },
      "outputs": [
        {
          "data": {
            "text/plain": [
              "-8"
            ]
          },
          "execution_count": 144,
          "metadata": {},
          "output_type": "execute_result"
        }
      ],
      "source": [
        "~7"
      ]
    },
    {
      "cell_type": "code",
      "execution_count": null,
      "id": "466764a7-42b6-441e-8cd1-d97b548e4ebd",
      "metadata": {
        "id": "466764a7-42b6-441e-8cd1-d97b548e4ebd",
        "outputId": "21915c94-c5ea-4573-9e87-688379cb240c"
      },
      "outputs": [
        {
          "data": {
            "text/plain": [
              "16"
            ]
          },
          "execution_count": 145,
          "metadata": {},
          "output_type": "execute_result"
        }
      ],
      "source": [
        "4<<2"
      ]
    },
    {
      "cell_type": "code",
      "execution_count": null,
      "id": "c1b880fc-bcea-474a-b91c-a3ff32961175",
      "metadata": {
        "id": "c1b880fc-bcea-474a-b91c-a3ff32961175",
        "outputId": "5a7e8c0f-12b3-41fd-d9a2-35140fbd9a7f"
      },
      "outputs": [
        {
          "data": {
            "text/plain": [
              "1"
            ]
          },
          "execution_count": 146,
          "metadata": {},
          "output_type": "execute_result"
        }
      ],
      "source": [
        "4>>2"
      ]
    },
    {
      "cell_type": "code",
      "execution_count": null,
      "id": "02e43267-f05a-4980-a397-818399b7f027",
      "metadata": {
        "id": "02e43267-f05a-4980-a397-818399b7f027",
        "outputId": "e02b9203-ebcb-459b-e232-51ea4211d461"
      },
      "outputs": [
        {
          "data": {
            "text/plain": [
              "'0b100'"
            ]
          },
          "execution_count": 147,
          "metadata": {},
          "output_type": "execute_result"
        }
      ],
      "source": [
        "bin(4)"
      ]
    },
    {
      "cell_type": "code",
      "execution_count": null,
      "id": "3b729267-fdca-4f11-a9ef-3824d8a530a8",
      "metadata": {
        "id": "3b729267-fdca-4f11-a9ef-3824d8a530a8",
        "outputId": "8c05909f-7a9d-4c07-91ed-e61d49ce08f6"
      },
      "outputs": [
        {
          "data": {
            "text/plain": [
              "'0b10000'"
            ]
          },
          "execution_count": 148,
          "metadata": {},
          "output_type": "execute_result"
        }
      ],
      "source": [
        "bin(16)"
      ]
    },
    {
      "cell_type": "markdown",
      "id": "2c06111d-53b5-4315-87dd-1b610ecbb6b2",
      "metadata": {
        "id": "2c06111d-53b5-4315-87dd-1b610ecbb6b2"
      },
      "source": [
        "5. special operator like identity and membership oprators identity 'is', 'is not' is used to compare the address of two different variable is value is true if address is same other wise false and is not is vice versa\n",
        "'membership oprators' in and not in it used in sequence data it is used to check the perticuler value is present in given sequence -- in and not in. 'in' :--  if value is present then true otherwise fasle and not in is vice versa. lets see example\n"
      ]
    },
    {
      "cell_type": "code",
      "execution_count": null,
      "id": "712154f6-53bd-4a64-bb53-e8e504e0230d",
      "metadata": {
        "id": "712154f6-53bd-4a64-bb53-e8e504e0230d",
        "outputId": "dba414c7-2f64-49c9-e1f0-fa91559f6b8a"
      },
      "outputs": [
        {
          "name": "stdout",
          "output_type": "stream",
          "text": [
            "False\n",
            "True\n",
            "False\n",
            "True\n"
          ]
        }
      ],
      "source": [
        "l=[1,2,3,4,5,6,]\n",
        "print(7 in l)\n",
        "print(5 in l)\n",
        "print(6 not in l)\n",
        "print(7 not in l)"
      ]
    },
    {
      "cell_type": "code",
      "execution_count": null,
      "id": "6db83cd0-10d4-460b-ad5e-2361e85619c5",
      "metadata": {
        "id": "6db83cd0-10d4-460b-ad5e-2361e85619c5",
        "outputId": "5c9af509-2ba5-47aa-e5b4-1538cfb3b8df"
      },
      "outputs": [
        {
          "name": "stdout",
          "output_type": "stream",
          "text": [
            "False\n",
            "True\n",
            "False\n",
            "True\n"
          ]
        }
      ],
      "source": [
        "s1=\"welcome\"\n",
        "s2=\"Welcome\"\n",
        "s3=\"welcome\"\n",
        "print(s1 is s2)\n",
        "print(s1 is s3)\n",
        "print(s1 is not s3)\n",
        "print(s1 is not  s2)"
      ]
    },
    {
      "cell_type": "code",
      "execution_count": null,
      "id": "333a30f9-cbfe-4e71-b5ff-98ef0dbcbb8b",
      "metadata": {
        "id": "333a30f9-cbfe-4e71-b5ff-98ef0dbcbb8b",
        "outputId": "756eef47-4e9c-4854-ad80-358621a97e45"
      },
      "outputs": [
        {
          "name": "stdout",
          "output_type": "stream",
          "text": [
            "2862100037296\n",
            "2862117225968\n",
            "2862100037296\n"
          ]
        }
      ],
      "source": [
        "print(id(s1))\n",
        "print(id(s2))\n",
        "print(id(s3))"
      ]
    },
    {
      "cell_type": "markdown",
      "id": "0135c227-5cf4-4e7b-bc0c-b7cdbb85d7eb",
      "metadata": {
        "id": "0135c227-5cf4-4e7b-bc0c-b7cdbb85d7eb"
      },
      "source": [
        "#here address of s1 and s3 is same becouse of value s1 and s3 is same"
      ]
    },
    {
      "cell_type": "markdown",
      "id": "dac975f1-3d52-410a-9c79-e5f21a429c2d",
      "metadata": {
        "id": "dac975f1-3d52-410a-9c79-e5f21a429c2d"
      },
      "source": [
        "## 5. explain the concept of type casting"
      ]
    },
    {
      "cell_type": "markdown",
      "id": "eb540470-7ef1-4277-935d-60d0c62613f9",
      "metadata": {
        "id": "eb540470-7ef1-4277-935d-60d0c62613f9"
      },
      "source": [
        "ans:-  #type casting is a converting  data  type to another data type\n",
        "there are differnt function see int(), str(), bool(),float()list(),tuple(),set(),bin(),hex(),oct()\n",
        "int() it convert string and bool value into interger then used one thing is remember it convert only number string\"6\" and in boolean value True is always 1 and False is 0\n",
        "str(): convert  one data type into string\n",
        "bool(): convert any value into bool like True an False in string if string is empty then bool value is Fasle"
      ]
    },
    {
      "cell_type": "code",
      "execution_count": null,
      "id": "5957d099-3a15-40f2-ae03-92f5aac38bd0",
      "metadata": {
        "id": "5957d099-3a15-40f2-ae03-92f5aac38bd0",
        "outputId": "97046f92-caf5-4518-c66d-2b3d298c634b"
      },
      "outputs": [
        {
          "name": "stdout",
          "output_type": "stream",
          "text": [
            "6\n",
            "1\n",
            "0\n",
            "67\n"
          ]
        }
      ],
      "source": [
        "print(int('6'))\n",
        "print(int(True))\n",
        "print(int(False))\n",
        "print(int(67.8))\n",
        "#print(int('welcome'))\n",
        "\n",
        "#here \"welcome \" is string it contain alphabet char so it is not converted its givesvalue error"
      ]
    },
    {
      "cell_type": "code",
      "execution_count": null,
      "id": "e14b8733-676b-4e90-86e3-54ce3ea81467",
      "metadata": {
        "id": "e14b8733-676b-4e90-86e3-54ce3ea81467",
        "outputId": "3c78b676-7029-4686-c848-9f2f558c0c48"
      },
      "outputs": [
        {
          "name": "stdout",
          "output_type": "stream",
          "text": [
            "10\n",
            "45.7\n",
            "True\n",
            "False\n"
          ]
        }
      ],
      "source": [
        "# 2) str():\n",
        "print(str(10))\n",
        "print(str(45.7))\n",
        "print(str(True))\n",
        "print(str(False))"
      ]
    },
    {
      "cell_type": "code",
      "execution_count": null,
      "id": "937d5a64-1606-43f9-9704-ccff745cf7b8",
      "metadata": {
        "id": "937d5a64-1606-43f9-9704-ccff745cf7b8",
        "outputId": "ffb069aa-b072-4bb4-b20d-a380d66704f1"
      },
      "outputs": [
        {
          "name": "stdout",
          "output_type": "stream",
          "text": [
            "True\n",
            "True\n",
            "False\n",
            "True\n",
            "False\n"
          ]
        }
      ],
      "source": [
        "#3) bool()\n",
        "''' bool(): convert any value into bool like True an False in string if string is empty then bool value is Fasle also same in\n",
        "0 is treated as Fasle.\n",
        "and\n",
        "'''\n",
        "a=30\n",
        "s=\"Welcome\"\n",
        "s1=\"\"\n",
        "f=56.7\n",
        "print(bool(a))\n",
        "print(bool(s))\n",
        "print(bool(s1))\n",
        "print(bool(f))\n",
        "print(bool(0))"
      ]
    },
    {
      "cell_type": "code",
      "execution_count": null,
      "id": "7f1ead9f-501f-4599-a271-729ee86cf636",
      "metadata": {
        "id": "7f1ead9f-501f-4599-a271-729ee86cf636",
        "outputId": "ef507ed5-5c1a-4546-b78b-1c428e66869d"
      },
      "outputs": [
        {
          "name": "stdout",
          "output_type": "stream",
          "text": [
            "30.0\n",
            "0.0\n",
            "1.0\n",
            "0.0\n"
          ]
        }
      ],
      "source": [
        "#float():-- convert int and bool into float\n",
        "a=30\n",
        "s=\"Welcome\"\n",
        "s1=\"\"\n",
        "b=True\n",
        "b1=False\n",
        "a1=0\n",
        "print(float(a))\n",
        "print(float(a1))\n",
        "#print(float(s1))\n",
        "#print(float(s))\n",
        "print(float(b))\n",
        "print(float(b1))\n",
        "\n"
      ]
    },
    {
      "cell_type": "code",
      "execution_count": null,
      "id": "d1a1a6f5-ea0b-4628-a32d-f00173035d9e",
      "metadata": {
        "id": "d1a1a6f5-ea0b-4628-a32d-f00173035d9e",
        "outputId": "a3a9370f-691a-4db4-c6d6-a66a40ce5d8b"
      },
      "outputs": [
        {
          "name": "stdout",
          "output_type": "stream",
          "text": [
            "0b110\n",
            "0b10100100\n",
            "0b111\n"
          ]
        }
      ],
      "source": [
        "#bin():--convert any number,digit into binary also convert hexa and oct into binary\n",
        "print(bin(6))\n",
        "print(bin(0xA4))\n",
        "print(bin(0o7))"
      ]
    },
    {
      "cell_type": "code",
      "execution_count": null,
      "id": "8e3541c8-bd7b-4f50-969f-5befd66b5def",
      "metadata": {
        "id": "8e3541c8-bd7b-4f50-969f-5befd66b5def",
        "outputId": "a1d796c7-95f6-405e-8ab0-66bc4185b87d"
      },
      "outputs": [
        {
          "name": "stdout",
          "output_type": "stream",
          "text": [
            "0xa4\n",
            "0x2f\n",
            "0x25\n",
            "\n"
          ]
        }
      ],
      "source": [
        "# hex():-- convert any decimal into hexa decimal\n",
        "print(hex(0b10100100))\n",
        "print(hex(47))\n",
        "print(hex(0o45))\n",
        "print()"
      ]
    },
    {
      "cell_type": "code",
      "execution_count": null,
      "id": "b28ff568-c45b-4810-b0f5-1e1b728ed578",
      "metadata": {
        "id": "b28ff568-c45b-4810-b0f5-1e1b728ed578",
        "outputId": "b3b8546e-83cb-402d-980c-ca1555112023"
      },
      "outputs": [
        {
          "name": "stdout",
          "output_type": "stream",
          "text": [
            "0o5\n",
            "0o115\n",
            "0o110\n",
            "\n"
          ]
        }
      ],
      "source": [
        "#oct():--- convert any decimal into octal\n",
        "print(oct(0b101))\n",
        "print(oct(77))\n",
        "print(oct(0x48))\n",
        "print()"
      ]
    },
    {
      "cell_type": "code",
      "execution_count": null,
      "id": "391eaea7-f8df-474c-831e-13c28ebfd9a2",
      "metadata": {
        "id": "391eaea7-f8df-474c-831e-13c28ebfd9a2",
        "outputId": "452ab7f1-cb0e-418b-a580-1030f67d01ed"
      },
      "outputs": [
        {
          "name": "stdout",
          "output_type": "stream",
          "text": [
            "[1, 2, 3, 4, 5, True, 'Welcome']\n",
            "[False, 1, 2, 3, 'Hello']\n",
            "[1, 2, 3, 4]\n"
          ]
        }
      ],
      "source": [
        "# list() set(),tuple(),dict() convert the sequenctial data type\n",
        "''' list() convert any sequential data type i.e tuple and set and dict\n",
        "into list and in dict convert ito list it will take only keys'''\n",
        "t=(1,2,3,4,5,True,\"Welcome\")\n",
        "s={1,2,3,True,False,'Hello'}\n",
        "d={1:'neha',2:'Raj',3:'Siya',4:'Ram'}\n",
        "print(list(t))\n",
        "print(list(s))\n",
        "print(list(d))\n",
        "#print(list(t))"
      ]
    },
    {
      "cell_type": "code",
      "execution_count": null,
      "id": "d8edec0b-2537-49d1-99e8-3d1855ff5480",
      "metadata": {
        "id": "d8edec0b-2537-49d1-99e8-3d1855ff5480",
        "outputId": "a99ad5a0-66f5-4d63-cf72-a419689164a4"
      },
      "outputs": [
        {
          "name": "stdout",
          "output_type": "stream",
          "text": [
            "(1, 2, 3, 4, 5, True, 'Welcome')\n",
            "(False, 1, 2, 3, 'Hello')\n",
            "(1, 2, 3, 4)\n"
          ]
        }
      ],
      "source": [
        "''' tuple() convert any sequential data type i.e list,set and dict\n",
        "into tupe and in dict convert into tuple it will take only keys'''\n",
        "l=[1,2,3,4,5,True,\"Welcome\"]\n",
        "s={1,2,3,True,False,'Hello'}\n",
        "d={1:'neha',2:'Raj',3:'Siya',4:'Ram'}\n",
        "print(tuple(l))\n",
        "print(tuple(s))\n",
        "print(tuple(d))"
      ]
    },
    {
      "cell_type": "code",
      "execution_count": null,
      "id": "360bcee3-e3b3-4df6-b626-65b8c8a3804e",
      "metadata": {
        "id": "360bcee3-e3b3-4df6-b626-65b8c8a3804e",
        "outputId": "80c0b6d0-e92f-4c84-9a36-6af622160641",
        "colab": {
          "base_uri": "https://localhost:8080/"
        }
      },
      "outputs": [
        {
          "output_type": "stream",
          "name": "stdout",
          "text": [
            "{1, 2, 3, 4, 5, 'Welcome'}\n",
            "{False, 1.5, True, 3, 'Hello', 25}\n",
            "{1, 2, 3, 4}\n"
          ]
        }
      ],
      "source": [
        "''' set() convert any sequential data type i.e list tuple and dict\n",
        "into set and in dict convert into tuple it will take only keys and duplicated value will be removed\n",
        "# dict() we can not convert sequential data type into dict() ,\n",
        "dict conatain the data in key: value pair that why convertion is not possible\n",
        "'''\n",
        "l=[1,2,3,4,5,True,\"Welcome\"]\n",
        "t=(1.5,25,3,True,False,'Hello')\n",
        "d={1:'neha',2:'Raj',3:'Siya',4:'Ram'}\n",
        "print(set(l))\n",
        "print(set(t))\n",
        "print(set(d))\n"
      ]
    },
    {
      "cell_type": "markdown",
      "id": "d8323042-da1c-4808-93d2-37d98c59f9c7",
      "metadata": {
        "id": "d8323042-da1c-4808-93d2-37d98c59f9c7"
      },
      "source": [
        "## 6) how to conditional statement work in python ? illustrate with example.\n",
        "ans .  In python if , elif and else this are the conditional statement\n",
        "1) simple if:- in python program contaion only if block , it check the condition and condition is true then  control goes to if b block nd f block will be executed.\n",
        "2) if else:- if used only one and else is also one\n",
        " if statemet conatain the condition, when you compare the condition and it check the condition and condition is True it control  goes to the  if block and if block is executed.\n",
        "if condition is false then executed else block. and in condition statement indendetion is compulsory\n",
        "3) if elif else  ():-- when you have the multiple condition and choice then we can used elif statement we can used multiple elif block in your program, it check the conditin and condition is false  control goes to the elif block if elif block is True then elif block is executed other wise again check the next elif blok and this block is false then go to next and not executed any elif block then else block will be executed .              \n",
        "lets  see the below example"
      ]
    },
    {
      "cell_type": "code",
      "execution_count": null,
      "id": "4a5189e2-b27b-491a-b2ad-d19bdf438a69",
      "metadata": {
        "id": "4a5189e2-b27b-491a-b2ad-d19bdf438a69",
        "outputId": "3b0ec15f-2ece-4dae-9344-cf27d42efb78"
      },
      "outputs": [
        {
          "name": "stdin",
          "output_type": "stream",
          "text": [
            "Enter the number from 1 to 7 only 5\n"
          ]
        },
        {
          "name": "stdout",
          "output_type": "stream",
          "text": [
            "Today is Friday \n"
          ]
        }
      ],
      "source": [
        "day=int(input(\"Enter the number from 1 to 7 only\"))\n",
        "if day==1:\n",
        "    print(\"Today is Monday \")\n",
        "elif day==2:\n",
        "    print(\"Today is Tuesday \")\n",
        "elif day==3:\n",
        "    print(\"Today is Wednesday \")\n",
        "elif day==4:\n",
        "    print(\"Today is Thursday \")\n",
        "elif day==5:\n",
        "    print(\"Today is Friday \")\n",
        "elif day==6:\n",
        "    print(\"Today is Saturday \")\n",
        "elif day==7:\n",
        "    print(\"Today is Sunday\")\n",
        "else:\n",
        "    print(\"Please enter the valid number from 1 to 7\")\n"
      ]
    },
    {
      "cell_type": "markdown",
      "id": "e344ec74-4c5e-4eca-940d-059068659bca",
      "metadata": {
        "id": "e344ec74-4c5e-4eca-940d-059068659bca"
      },
      "source": [
        "In above example.  enter the day value if day is 1 then it match with if block and if block will be excuted and stop your execution.\n",
        "in case day value is 3 then control goes to next elif block it check the condition if condition  is match and result is True\n",
        "then it exexuted the this elif block. in case if and elif block is False the  else block will be executed\n",
        "    "
      ]
    },
    {
      "cell_type": "markdown",
      "id": "418146a9-f424-4752-9ea0-6784fa0c9fed",
      "metadata": {
        "id": "418146a9-f424-4752-9ea0-6784fa0c9fed"
      },
      "source": [
        "## 7) Describe the differnt type of loop in python and their use cases with example\n",
        "ans:- in python it has two loop for loop and while loop\n",
        "1) for loop is used for iterating over the sequence and  \"while\" loop are used for executing code  until a specific condition become False.\n",
        "lets see example below.\n"
      ]
    },
    {
      "cell_type": "code",
      "execution_count": null,
      "id": "303b4e28-f0b8-44c7-9cf7-8e13ef99167d",
      "metadata": {
        "id": "303b4e28-f0b8-44c7-9cf7-8e13ef99167d",
        "outputId": "554704d8-dc32-48ae-a7a3-9b8049c1564b"
      },
      "outputs": [
        {
          "name": "stdin",
          "output_type": "stream",
          "text": [
            "Enter the nth term 10\n"
          ]
        },
        {
          "name": "stdout",
          "output_type": "stream",
          "text": [
            "1\n",
            "2\n",
            "3\n",
            "4\n",
            "5\n",
            "6\n",
            "7\n",
            "8\n",
            "9\n"
          ]
        }
      ],
      "source": [
        "# program to print the nth natural number using for and while loop\n",
        "# for loop work on sequential type\n",
        "n=int(input(\"Enter the nth term\"))\n",
        "for i in range(1,n):\n",
        "    print(i)\n"
      ]
    },
    {
      "cell_type": "markdown",
      "id": "67ebcbf7-99cc-4717-8f75-84bcb2aadd0b",
      "metadata": {
        "id": "67ebcbf7-99cc-4717-8f75-84bcb2aadd0b"
      },
      "source": [
        " using while loop:- in while loop first need to initaioalization the variable as second condition and 3 rd is increament  and decreament value statment\n"
      ]
    },
    {
      "cell_type": "code",
      "execution_count": null,
      "id": "2270cb90-6b9c-47c2-b380-c913000de5c2",
      "metadata": {
        "id": "2270cb90-6b9c-47c2-b380-c913000de5c2",
        "outputId": "698818d8-48bc-4f79-ebca-b0125fc44df1"
      },
      "outputs": [
        {
          "name": "stdin",
          "output_type": "stream",
          "text": [
            "Enter the nth term 10\n"
          ]
        },
        {
          "name": "stdout",
          "output_type": "stream",
          "text": [
            "1\n",
            "2\n",
            "3\n",
            "4\n",
            "5\n",
            "6\n",
            "7\n",
            "8\n",
            "9\n",
            "10\n"
          ]
        }
      ],
      "source": [
        "n=int(input(\"Enter the nth term\"))\n",
        "a=1 # initialization\n",
        "while a<=n: # condition\n",
        "    print(a)\n",
        "    a+=1 # increament\n"
      ]
    },
    {
      "cell_type": "code",
      "execution_count": null,
      "id": "0c988dc0-7294-4d41-be3d-f4bc7e2e9c6a",
      "metadata": {
        "id": "0c988dc0-7294-4d41-be3d-f4bc7e2e9c6a",
        "outputId": "86212d25-619b-46dc-be68-086af6a28398"
      },
      "outputs": [
        {
          "name": "stdout",
          "output_type": "stream",
          "text": [
            "1\n",
            "2\n",
            "3\n",
            "4\n",
            "5\n",
            "Welcome\n",
            "6\n",
            "7\n",
            "8\n"
          ]
        }
      ],
      "source": [
        "list1=[1,2,3,4,5,\"Welcome\",6,7,8]\n",
        "for i in list1:\n",
        "    print(i)"
      ]
    },
    {
      "cell_type": "markdown",
      "id": "455391de-78b2-41ac-a339-b2316417c5b6",
      "metadata": {
        "id": "455391de-78b2-41ac-a339-b2316417c5b6"
      },
      "source": [
        "## -----------------------------End of First Assignment-------------------------------"
      ]
    },
    {
      "cell_type": "code",
      "execution_count": null,
      "id": "74a0b43b-b753-473b-8d40-046a4c73ea83",
      "metadata": {
        "id": "74a0b43b-b753-473b-8d40-046a4c73ea83"
      },
      "outputs": [],
      "source": []
    }
  ],
  "metadata": {
    "kernelspec": {
      "display_name": "Python 3 (ipykernel)",
      "language": "python",
      "name": "python3"
    },
    "language_info": {
      "codemirror_mode": {
        "name": "ipython",
        "version": 3
      },
      "file_extension": ".py",
      "mimetype": "text/x-python",
      "name": "python",
      "nbconvert_exporter": "python",
      "pygments_lexer": "ipython3",
      "version": "3.11.7"
    },
    "colab": {
      "provenance": [],
      "include_colab_link": true
    }
  },
  "nbformat": 4,
  "nbformat_minor": 5
}